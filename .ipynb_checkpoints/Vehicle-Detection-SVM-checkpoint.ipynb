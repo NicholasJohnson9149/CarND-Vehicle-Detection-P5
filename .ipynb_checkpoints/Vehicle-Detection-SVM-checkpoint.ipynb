{
 "cells": [
  {
   "cell_type": "markdown",
   "metadata": {},
   "source": [
    "### Import the libraries and define all the utility functions/classes"
   ]
  },
  {
   "cell_type": "markdown",
   "metadata": {},
   "source": [
    "#### Import libraries"
   ]
  },
  {
   "cell_type": "code",
   "execution_count": 1,
   "metadata": {
    "collapsed": true
   },
   "outputs": [],
   "source": [
    "import cv2\n",
    "import numpy as np\n",
    "import matplotlib.image as mpimg\n",
    "import matplotlib.pyplot as plt\n",
    "import glob\n",
    "import time\n",
    "import pickle\n",
    "\n",
    "from collections import deque\n",
    "from sklearn.model_selection import train_test_split\n",
    "from sklearn.svm import LinearSVC\n",
    "from sklearn.svm import SVC\n",
    "from sklearn.preprocessing import StandardScaler\n",
    "from skimage.feature import hog\n",
    "from scipy.ndimage.measurements import label\n",
    "\n",
    "from moviepy.editor import VideoFileClip\n",
    "from IPython.display import HTML\n",
    "\n",
    "%matplotlib inline"
   ]
  },
  {
   "cell_type": "markdown",
   "metadata": {},
   "source": [
    "#### Define image processing functions"
   ]
  },
  {
   "cell_type": "code",
   "execution_count": 2,
   "metadata": {
    "collapsed": true
   },
   "outputs": [],
   "source": [
    "# Spatial binning of image to reduce feature vector size\n",
    "def bin_spatial(img, size=(32, 32)):\n",
    "    #Use inter-area interpolation to improve quality of down-sampled image\n",
    "    features = cv2.resize(img, size, interpolation=cv2.INTER_AREA).ravel()\n",
    "    #print(\"Spatial features shape is:\", features.shape)\n",
    "    return features\n",
    "\n",
    "#Compute color histograms for image\n",
    "def color_hist(img, nbins=32, bins_range=(0, 256)):\n",
    "    # Compute the histogram of the color channels separately\n",
    "    channel1_hist = np.histogram(img[:,:,0], bins=nbins, range=bins_range)\n",
    "    channel2_hist = np.histogram(img[:,:,1], bins=nbins, range=bins_range)\n",
    "    channel3_hist = np.histogram(img[:,:,2], bins=nbins, range=bins_range)\n",
    "    # Concatenate the histograms into a single feature vector\n",
    "    hist_features = np.concatenate((channel1_hist[0], channel2_hist[0], channel3_hist[0]))\n",
    "    # Return the individual histograms, bin_centers and feature vector\n",
    "    #print(\"Hist features shape is:\", hist_features.shape)\n",
    "    return hist_features\n",
    "\n",
    "def BGR2RGB(img):\n",
    "    img = cv2.cvtColor(img, cv2.COLOR_BGR2RGB)\n",
    "    #print(\"BGR2RGB max is:\", np.max(img))\n",
    "    return img\n",
    "\n",
    "#Compute hog features for image\n",
    "def get_hog_features(img, orient, pix_per_cell, cell_per_block, \n",
    "                        vis=False, feature_vec=True):\n",
    "    # Call with two outputs if vis==True\n",
    "    if vis == True:\n",
    "        features, hog_image = hog(img, orientations=orient, \n",
    "                                  pixels_per_cell=(pix_per_cell, pix_per_cell),\n",
    "                                  cells_per_block=(cell_per_block, cell_per_block), \n",
    "                                  transform_sqrt=False, block_norm='L1', \n",
    "                                  visualise=vis, feature_vector=feature_vec)\n",
    "        return features, hog_image\n",
    "    # Otherwise call with one output\n",
    "    else:      \n",
    "        features = hog(img, orientations=orient, \n",
    "                       pixels_per_cell=(pix_per_cell, pix_per_cell),\n",
    "                       cells_per_block=(cell_per_block, cell_per_block), \n",
    "                       transform_sqrt=False, block_norm='L1', \n",
    "                       visualise=vis, feature_vector=feature_vec)\n",
    "        #print(\"Hog features shape is:\", features.shape)\n",
    "        return features\n",
    "    \n",
    "#Extract features from a list of images\n",
    "def extract_features(imgs, color_space='RGB', spatial_size=(32, 32),\n",
    "                        hist_bins=32, orient=9, \n",
    "                        pix_per_cell=8, cell_per_block=2, hog_channel=0,\n",
    "                        spatial_feat=True, hist_feat=True, hog_feat=True):\n",
    "    # Create a list to append feature vectors to\n",
    "    features = []\n",
    "    # Iterate through the list of images\n",
    "    for file in imgs:\n",
    "        file_features = []\n",
    "        # Read in each one by one\n",
    "        image = cv2.imread(file)\n",
    "        image = BGR2RGB(image)\n",
    "        # apply color conversion if other than 'RGB'\n",
    "        if color_space != 'RGB':\n",
    "            if color_space == 'HSV':\n",
    "                feature_image = cv2.cvtColor(image, cv2.COLOR_RGB2HSV)\n",
    "            elif color_space == 'LUV':\n",
    "                feature_image = cv2.cvtColor(image, cv2.COLOR_RGB2LUV)\n",
    "            elif color_space == 'HLS':\n",
    "                feature_image = cv2.cvtColor(image, cv2.COLOR_RGB2HLS)\n",
    "            elif color_space == 'YUV':\n",
    "                feature_image = cv2.cvtColor(image, cv2.COLOR_RGB2YUV)\n",
    "            elif color_space == 'YCrCb':\n",
    "                feature_image = cv2.cvtColor(image, cv2.COLOR_RGB2YCrCb)\n",
    "        else: feature_image = np.copy(image)      \n",
    "\n",
    "        if spatial_feat == True:\n",
    "            spatial_features = bin_spatial(feature_image, size=spatial_size)\n",
    "            file_features.append(spatial_features)\n",
    "        if hist_feat == True:\n",
    "            # Apply color_hist()\n",
    "            hist_features = color_hist(feature_image, nbins=hist_bins)\n",
    "            file_features.append(hist_features)\n",
    "        if hog_feat == True:\n",
    "        # Call get_hog_features() with vis=False, feature_vec=True\n",
    "            if hog_channel == 'ALL':\n",
    "                hog_features = []\n",
    "                for channel in range(feature_image.shape[2]):\n",
    "                    hog_features.append(get_hog_features(feature_image[:,:,channel], \n",
    "                                        orient, pix_per_cell, cell_per_block, \n",
    "                                        vis=False, feature_vec=True))\n",
    "                hog_features = np.ravel(hog_features)        \n",
    "            else:\n",
    "                hog_features = get_hog_features(feature_image[:,:,hog_channel], orient, \n",
    "                            pix_per_cell, cell_per_block, vis=False, feature_vec=True)\n",
    "            # Append the new feature vector to the features list\n",
    "            file_features.append(hog_features)\n",
    "        features.append(np.concatenate(file_features))\n",
    "    # Return list of feature vectors\n",
    "    return features\n",
    "\n",
    "def add_heat(heatmap, bbox_list):\n",
    "    # Iterate through list of bboxes\n",
    "    for box in bbox_list:\n",
    "        # Add += 1 for all pixels inside each bbox\n",
    "        # Assuming each \"box\" takes the form ((x1, y1), (x2, y2))\n",
    "        heatmap[box[0][1]:box[1][1], box[0][0]:box[1][0]] += 1\n",
    "    # Return updated heatmap\n",
    "    return heatmap# Iterate through list of bboxes\n",
    "\n",
    "def apply_threshold(heatmap, threshold):\n",
    "    # Zero out pixels below the threshold\n",
    "    heatmap[heatmap <= threshold] = 0\n",
    "    # Return thresholded map\n",
    "    return heatmap\n",
    "\n",
    "def draw_labeled_bboxes(img, labels):\n",
    "    draw_img = np.copy(img)\n",
    "    # Iterate through all detected cars\n",
    "    for car_number in range(1, labels[1]+1):\n",
    "        # Find pixels with each car_number label value\n",
    "        nonzero = (labels[0] == car_number).nonzero()\n",
    "        # Identify x and y values of those pixels\n",
    "        nonzeroy = np.array(nonzero[0])\n",
    "        nonzerox = np.array(nonzero[1])\n",
    "        # Define a bounding box based on min/max x and y\n",
    "        bbox = ((np.min(nonzerox), np.min(nonzeroy)), (np.max(nonzerox), np.max(nonzeroy)))\n",
    "        # Draw the box on the image\n",
    "        cv2.rectangle(draw_img, bbox[0], bbox[1], (100,255,0), 3)\n",
    "    # Return the image\n",
    "    return draw_img\n",
    "\n",
    "def find_cars(img, x_start_stop, ystart, ystop, scale, svc, X_scaler, orient, pix_per_cell, \n",
    "              cell_per_block, spatial_size, hist_bins):\n",
    "    \n",
    "    draw_img = np.copy(img)    \n",
    "    img_tosearch = img[ystart:ystop, x_start_stop[0]:x_start_stop[1], :]\n",
    "    ctrans_tosearch = cv2.cvtColor(img_tosearch, cv2.COLOR_RGB2LUV)\n",
    "    if scale != 1:\n",
    "        imshape = ctrans_tosearch.shape\n",
    "        ctrans_tosearch = cv2.resize(ctrans_tosearch, (np.int(imshape[1]/scale), np.int(imshape[0]/scale)))\n",
    "        \n",
    "    ch1 = ctrans_tosearch[:,:,0]\n",
    "    ch2 = ctrans_tosearch[:,:,1]\n",
    "    ch3 = ctrans_tosearch[:,:,2]\n",
    "\n",
    "    # Define blocks and steps as above\n",
    "    nxblocks = (ch1.shape[1] // pix_per_cell) - cell_per_block + 1\n",
    "    nyblocks = (ch1.shape[0] // pix_per_cell) - cell_per_block + 1 \n",
    "    nfeat_per_block = orient*cell_per_block**2\n",
    "    \n",
    "    # 64 was the orginal sampling rate, with 8 cells and 8 pix per cell\n",
    "    window = 64\n",
    "    nblocks_per_window = (window // pix_per_cell) - cell_per_block + 1\n",
    "    cells_per_step = 2  # Instead of overlap, define how many cells to step (2 originally)\n",
    "    nxsteps = (nxblocks - nblocks_per_window) // cells_per_step\n",
    "    nysteps = (nyblocks - nblocks_per_window) // cells_per_step\n",
    "    \n",
    "    # Compute individual channel HOG features for the entire image\n",
    "    hog1 = get_hog_features(ch1, orient, pix_per_cell, cell_per_block, feature_vec=False)\n",
    "    hog2 = get_hog_features(ch2, orient, pix_per_cell, cell_per_block, feature_vec=False)\n",
    "    hog3 = get_hog_features(ch3, orient, pix_per_cell, cell_per_block, feature_vec=False)\n",
    "    \n",
    "    on_windows = []\n",
    "    for xb in range(nxsteps):\n",
    "        for yb in range(nysteps):\n",
    "            ypos = yb*cells_per_step\n",
    "            xpos = xb*cells_per_step\n",
    "            # Extract HOG for this patch\n",
    "            hog_feat1 = hog1[ypos:ypos+nblocks_per_window, xpos:xpos+nblocks_per_window].ravel() \n",
    "            hog_feat2 = hog2[ypos:ypos+nblocks_per_window, xpos:xpos+nblocks_per_window].ravel() \n",
    "            hog_feat3 = hog3[ypos:ypos+nblocks_per_window, xpos:xpos+nblocks_per_window].ravel() \n",
    "            hog_features = np.hstack((hog_feat1, hog_feat2, hog_feat3))\n",
    "            #print(\"Hog features shape is:\", hog_features.shape)\n",
    "\n",
    "            xleft = xpos*pix_per_cell\n",
    "            ytop = ypos*pix_per_cell\n",
    "\n",
    "            # Extract the image patch\n",
    "            subimg = cv2.resize(ctrans_tosearch[ytop:ytop+window, xleft:xleft+window], (64,64))\n",
    "          \n",
    "            # Get color features\n",
    "            spatial_features = bin_spatial(subimg, size=spatial_size)\n",
    "            hist_features = color_hist(subimg, nbins=hist_bins)\n",
    "\n",
    "            # Scale features and make a prediction\n",
    "            test_features = X_scaler.transform(np.hstack((spatial_features, hist_features, hog_features)).reshape(1, -1))    \n",
    "            test_prediction = svc.predict(test_features)\n",
    "            \n",
    "            if test_prediction == 1:\n",
    "                xbox_left = np.int(xleft*scale)\n",
    "                ytop_draw = np.int(ytop*scale)\n",
    "                win_draw = np.int(window*scale)\n",
    "                on_windows.append(((x_start_stop[0]+xbox_left, ytop_draw+ystart), \n",
    "                                   (x_start_stop[0]+xbox_left+win_draw, ytop_draw+win_draw+ystart)))\n",
    "                \n",
    "    return on_windows\n",
    "\n",
    "def slide_window(img, x_start_stop=[None, None], y_start_stop=[None, None], \n",
    "                    xy_window=(64, 64), xy_overlap=(0.5, 0.5)):\n",
    "    # If x and/or y start/stop positions not defined, set to image size\n",
    "    if x_start_stop[0] == None:\n",
    "        x_start_stop[0] = 0\n",
    "    if x_start_stop[1] == None:\n",
    "        x_start_stop[1] = img.shape[1]\n",
    "    if y_start_stop[0] == None:\n",
    "        y_start_stop[0] = 0\n",
    "    if y_start_stop[1] == None:\n",
    "        y_start_stop[1] = img.shape[0]\n",
    "    # Compute the span of the region to be searched    \n",
    "    xspan = x_start_stop[1] - x_start_stop[0]\n",
    "    yspan = y_start_stop[1] - y_start_stop[0]\n",
    "    # Compute the number of pixels per step in x/y\n",
    "    nx_pix_per_step = np.int(xy_window[0]*(1 - xy_overlap[0]))\n",
    "    ny_pix_per_step = np.int(xy_window[1]*(1 - xy_overlap[1]))\n",
    "    # Compute the number of windows in x/y\n",
    "    nx_buffer = np.int(xy_window[0]*(xy_overlap[0]))\n",
    "    ny_buffer = np.int(xy_window[1]*(xy_overlap[1]))\n",
    "    nx_windows = np.int((xspan-nx_buffer)/nx_pix_per_step) \n",
    "    ny_windows = np.int((yspan-ny_buffer)/ny_pix_per_step) \n",
    "    # Initialize a list to append window positions to\n",
    "    window_list = []\n",
    "    # Loop through finding x and y window positions\n",
    "    # Note: you could vectorize this step, but in practice\n",
    "    # you'll be considering windows one by one with your\n",
    "    # classifier, so looping makes sense\n",
    "    for ys in range(ny_windows):\n",
    "        for xs in range(nx_windows):\n",
    "            # Calculate window position\n",
    "            startx = xs*nx_pix_per_step + x_start_stop[0]\n",
    "            endx = startx + xy_window[0]\n",
    "            starty = ys*ny_pix_per_step + y_start_stop[0]\n",
    "            endy = starty + xy_window[1]\n",
    "            # Append window position to list\n",
    "            window_list.append(((startx, starty), (endx, endy)))\n",
    "    # Return the list of windows\n",
    "    return window_list\n",
    "\n",
    "def draw_boxes(img, bboxes, color=(0, 0, 255), thick=3):\n",
    "    # Make a copy of the image\n",
    "    imcopy = np.copy(img)\n",
    "    # Iterate through the bounding boxes\n",
    "    for bbox in bboxes:\n",
    "        # Draw a rectangle given bbox coordinates\n",
    "        cv2.rectangle(imcopy, bbox[0], bbox[1], color, thick)\n",
    "    # Return the image copy with boxes drawn\n",
    "    return imcopy"
   ]
  },
  {
   "cell_type": "markdown",
   "metadata": {},
   "source": [
    "#### Define ImageProcess Class"
   ]
  },
  {
   "cell_type": "code",
   "execution_count": 3,
   "metadata": {
    "collapsed": true
   },
   "outputs": [],
   "source": [
    "class ImageProcessor: \n",
    "    \n",
    "    def __init__(self, SVC, Scaler):\n",
    "        \n",
    "        self.smooth_count = 5 # Number of frames to average over\n",
    "        self.threshold = 5 #threshold for detection\n",
    "        self.Scaler = Scaler\n",
    "        self.SVC = SVC\n",
    "        self.window_scale = (1.25, 1.5625, 1.875)\n",
    "        self.x_start_stop = [400, 1280] \n",
    "        self.y_start_stop = [[400, 520], [400, 580], [400, 700]]\n",
    "        self.orient = 9  # HOG orientations\n",
    "        self.pix_per_cell = 8 # HOG pixels per cell\n",
    "        self.cell_per_block = 2 # HOG cells per block\n",
    "        self.spatial_size = (32, 32) # Spatial binning dimensions\n",
    "        self.hist_bins = 32    # Number of histogram bins\n",
    "        self.heatmaps_list = deque(maxlen=self.smooth_count)\n",
    "        \n",
    "    def __sum_heatmap(self, heatmaps_list, thresh):\n",
    "        smooth_heatmap = 0\n",
    "        #Sum the hot pixel values in the heatmap upto a maximum of smooth_count\n",
    "        for i in range(len(heatmaps_list)):\n",
    "            smooth_heatmap += heatmaps_list[i]\n",
    "        #Apply the threshold before returning the heatmap\n",
    "        return apply_threshold(smooth_heatmap, thresh)\n",
    "    \n",
    "        \n",
    "    def vehicle_detection(self, img):\n",
    "       \n",
    "        detection_windows = []\n",
    "        detection_rectangles = [] #Used only for cv2.groupRectangles\n",
    "        hot_windows = [] #Used only for cv2.groupRectangles\n",
    "        \n",
    "        for i, scale in enumerate(self.window_scale):\n",
    "            detection_windows.extend(find_cars(img, self.x_start_stop, self.y_start_stop[i][0], self.y_start_stop[i][1], \n",
    "                                               scale, self.SVC, self.Scaler, self.orient, self.pix_per_cell, \n",
    "                                               self.cell_per_block, self.spatial_size, self.hist_bins))\n",
    "\n",
    "        \n",
    "        #''' #Comment out this line to run the pipeline using heatmaps\n",
    "        heatmap = np.zeros_like(img[:,:,0]).astype(np.float)\n",
    "        heatmap = add_heat(heatmap ,detection_windows)\n",
    "        \n",
    "        #####Use for running on images####\n",
    "        #heatmap = apply_threshold(heatmap, self.threshold)\n",
    "        #labels = label(heatmap)\n",
    "\n",
    "        ###Use for running on videos####\n",
    "        self.heatmaps_list.append(heatmap)\n",
    "        smooth_heatmap = self.__sum_heatmap(self.heatmaps_list, self.threshold)\n",
    "        labels = label(smooth_heatmap)\n",
    "        \n",
    "        ##Draw labels or detection windows\n",
    "        final_img = draw_labeled_bboxes(img, labels)\n",
    "        #final_img = draw_boxes(img, detection_windows)\n",
    "        #''' #Comment out this line to run the pipeline using heatmaps\n",
    "\n",
    "        \n",
    "        ''' #Comment out this line to run the pipeline using cv2.GroupRectangles\n",
    "        ##Use cv2.Group rectangles\n",
    "        groupThresh = 1\n",
    "        eps = 1\n",
    "        \n",
    "        if detection_windows:\n",
    "            for win in detection_windows:\n",
    "                x = (win[1][0] + win[0][0])/2\n",
    "                y = (win[1][1] + win[0][1])/2\n",
    "                w = win[1][0] - win[0][0]\n",
    "                h = win[1][1] - win[0][1]\n",
    "                detection_rectangles.append((x,y,w,h))\n",
    "    \n",
    "        hot_rectangles = cv2.groupRectangles(detection_rectangles, groupThresh, eps)\n",
    "    \n",
    "        if any(map(len, hot_rectangles)):\n",
    "            for rect in hot_rectangles[0]:\n",
    "                hot_windows.append(((rect[0]-(rect[2]//2), rect[1]-(rect[3]//2)),  \n",
    "                                     (rect[0]+(rect[2]//2), rect[1]+(rect[3]//2))))\n",
    "        \n",
    "        final_img = draw_boxes(img, hot_windows, color = (100,255,0))\n",
    "        ''' #Comment out this line to run the pipeline using cv2.GroupRectangles\n",
    "\n",
    "        return final_img"
   ]
  },
  {
   "cell_type": "markdown",
   "metadata": {},
   "source": [
    "### Build & train the classifer"
   ]
  },
  {
   "cell_type": "markdown",
   "metadata": {},
   "source": [
    "#### Process the data"
   ]
  },
  {
   "cell_type": "markdown",
   "metadata": {},
   "source": [
    "Read in all the data"
   ]
  },
  {
   "cell_type": "code",
   "execution_count": 4,
   "metadata": {},
   "outputs": [
    {
     "ename": "IndexError",
     "evalue": "list index out of range",
     "output_type": "error",
     "traceback": [
      "\u001b[0;31m---------------------------------------------------------------------------\u001b[0m",
      "\u001b[0;31mIndexError\u001b[0m                                Traceback (most recent call last)",
      "\u001b[0;32m<ipython-input-4-209f777b8c1e>\u001b[0m in \u001b[0;36m<module>\u001b[0;34m()\u001b[0m\n\u001b[1;32m      1\u001b[0m \u001b[0mnotcars\u001b[0m \u001b[0;34m=\u001b[0m \u001b[0mglob\u001b[0m\u001b[0;34m.\u001b[0m\u001b[0mglob\u001b[0m\u001b[0;34m(\u001b[0m\u001b[0;34m'.\\\\data\\\\non-vehicles\\\\**\\\\*.png'\u001b[0m\u001b[0;34m,\u001b[0m \u001b[0mrecursive\u001b[0m\u001b[0;34m=\u001b[0m\u001b[0;32mTrue\u001b[0m\u001b[0;34m)\u001b[0m\u001b[0;34m\u001b[0m\u001b[0m\n\u001b[1;32m      2\u001b[0m \u001b[0mcars\u001b[0m \u001b[0;34m=\u001b[0m \u001b[0mglob\u001b[0m\u001b[0;34m.\u001b[0m\u001b[0mglob\u001b[0m\u001b[0;34m(\u001b[0m\u001b[0;34m'.\\\\data\\\\vehicles\\\\**\\\\*.png'\u001b[0m\u001b[0;34m,\u001b[0m \u001b[0mrecursive\u001b[0m\u001b[0;34m=\u001b[0m\u001b[0;32mTrue\u001b[0m\u001b[0;34m)\u001b[0m\u001b[0;34m\u001b[0m\u001b[0m\n\u001b[0;32m----> 3\u001b[0;31m \u001b[0mtest_image\u001b[0m \u001b[0;34m=\u001b[0m \u001b[0mcv2\u001b[0m\u001b[0;34m.\u001b[0m\u001b[0mimread\u001b[0m\u001b[0;34m(\u001b[0m\u001b[0mcars\u001b[0m\u001b[0;34m[\u001b[0m\u001b[0;36m0\u001b[0m\u001b[0;34m]\u001b[0m\u001b[0;34m)\u001b[0m\u001b[0;34m\u001b[0m\u001b[0m\n\u001b[0m\u001b[1;32m      4\u001b[0m \u001b[0mtest_image\u001b[0m \u001b[0;34m=\u001b[0m \u001b[0mBGR2RGB\u001b[0m\u001b[0;34m(\u001b[0m\u001b[0mtest_image\u001b[0m\u001b[0;34m)\u001b[0m\u001b[0;34m\u001b[0m\u001b[0m\n\u001b[1;32m      5\u001b[0m \u001b[0;34m\u001b[0m\u001b[0m\n",
      "\u001b[0;31mIndexError\u001b[0m: list index out of range"
     ]
    }
   ],
   "source": [
    "notcars = glob.glob('.\\\\data\\\\non-vehicles\\\\**\\\\*.png', recursive=True)\n",
    "cars = glob.glob('.\\\\data\\\\vehicles\\\\**\\\\*.png', recursive=True)\n",
    "test_image = cv2.imread(cars[0])\n",
    "test_image = BGR2RGB(test_image)\n",
    "\n",
    "print(\"Number of car images:\", len(cars))\n",
    "print(\"Number of background images:\", len(notcars))\n",
    "print(\"Image size for the data set is:\", test_image.shape)\n",
    "print(\"Total number of samples is:\", len(cars) + len(notcars))"
   ]
  },
  {
   "cell_type": "markdown",
   "metadata": {},
   "source": [
    "Define the variables"
   ]
  },
  {
   "cell_type": "code",
   "execution_count": null,
   "metadata": {
    "collapsed": true
   },
   "outputs": [],
   "source": [
    "#Variables for feature extraction\n",
    "color_space = 'LUV' # Can be RGB, HSV, LUV, HLS, YUV, YCrCb\n",
    "orient = 9  # HOG orientations\n",
    "pix_per_cell = 8 # HOG pixels per cell\n",
    "cell_per_block = 2 # HOG cells per block\n",
    "hog_channel = \"ALL\" # Can be 0, 1, 2, or \"ALL\"\n",
    "spatial_size = (32, 32) # Spatial binning dimensions\n",
    "hist_bins = 32    # Number of histogram bins\n",
    "spatial_feat = True # Spatial features on or off\n",
    "hist_feat = True # Histogram features on or off\n",
    "hog_feat = True # HOG features on or off"
   ]
  },
  {
   "cell_type": "markdown",
   "metadata": {},
   "source": [
    "Convert the images to feature vectors and normalize the feature vectors"
   ]
  },
  {
   "cell_type": "code",
   "execution_count": null,
   "metadata": {
    "scrolled": true
   },
   "outputs": [],
   "source": [
    "t=time.time()\n",
    "car_features = extract_features(cars, color_space=color_space, \n",
    "                        spatial_size=spatial_size, hist_bins=hist_bins, \n",
    "                        orient=orient, pix_per_cell=pix_per_cell, \n",
    "                        cell_per_block=cell_per_block, \n",
    "                        hog_channel=hog_channel, spatial_feat=spatial_feat, \n",
    "                        hist_feat=hist_feat, hog_feat=hog_feat)\n",
    "notcar_features = extract_features(notcars, color_space=color_space, \n",
    "                        spatial_size=spatial_size, hist_bins=hist_bins, \n",
    "                        orient=orient, pix_per_cell=pix_per_cell, \n",
    "                        cell_per_block=cell_per_block, \n",
    "                        hog_channel=hog_channel, spatial_feat=spatial_feat, \n",
    "                        hist_feat=hist_feat, hog_feat=hog_feat)\n",
    "t2 = time.time()\n",
    "print(round(t2-t, 2), 'Seconds to extract features...')\n",
    "\n",
    "X = np.vstack((car_features, notcar_features)).astype(np.float64)                        \n",
    "\n",
    "# Define the labels vector\n",
    "y = np.hstack((np.ones(len(car_features)), np.zeros(len(notcar_features))))\n",
    "\n",
    "# Fit a per-column scaler\n",
    "X_scaler = StandardScaler().fit(X)\n",
    "# Apply the scaler to X\n",
    "scaled_X = X_scaler.transform(X)"
   ]
  },
  {
   "cell_type": "markdown",
   "metadata": {},
   "source": [
    "Shuffle the data and segment into training and test splits"
   ]
  },
  {
   "cell_type": "code",
   "execution_count": null,
   "metadata": {},
   "outputs": [],
   "source": [
    "# Split up data into randomized training and test sets\n",
    "rand_state = np.random.randint(0, 100)\n",
    "X_train, X_test, y_train, y_test = train_test_split(\n",
    "    scaled_X, y, test_size=0.2, random_state=rand_state)\n",
    "# Make sure the train/test splits are balanced\n",
    "train_cars_percentage = len(y_train[y_train == 1])/len(y_train) * 100\n",
    "train_notcars_percentage = 100 - train_cars_percentage\n",
    "test_cars_percentage = len(y_test[y_test == 1])/len(y_test) * 100\n",
    "test_notcars_percentage = 100 - test_cars_percentage\n",
    "\n",
    "print(\"Training split size is {:d} samples\".format(y_train.shape[0]))\n",
    "print(\"Testing split size is {:d} samples\".format(y_test.shape[0]))\n",
    "print(\"Percentages of cars/notcars samples in the training split is {:.2f}% / {:.2f}%:\"\n",
    "      .format(train_cars_percentage, train_notcars_percentage))\n",
    "print(\"Percentages of cars/notcars samples in the test split is {:.2f}% / {:.2f}%:\"\n",
    "      .format(test_cars_percentage, test_notcars_percentage))\n",
    "print(\"Feature vector length is:\", len(X_train[0]))"
   ]
  },
  {
   "cell_type": "markdown",
   "metadata": {},
   "source": [
    "#### Initalize & train the classifier"
   ]
  },
  {
   "cell_type": "code",
   "execution_count": null,
   "metadata": {},
   "outputs": [],
   "source": [
    "# Use a linear SVC \n",
    "svc = LinearSVC() \n",
    "# Check the training time for the SVC\n",
    "t=time.time()\n",
    "svc.fit(X_train, y_train)\n",
    "t2 = time.time()\n",
    "print(round(t2-t, 2), 'Seconds to train SVC...')\n",
    "# Check the score of the SVC\n",
    "print('Test Accuracy of SVC = ', round(svc.score(X_test, y_test), 4))\n",
    "\n",
    "#with open('SVM.pkl', 'wb') as fid:\n",
    "#    pickle.dump([svc, X_scaler], fid)"
   ]
  },
  {
   "cell_type": "markdown",
   "metadata": {},
   "source": [
    "### Perform predictions using the ImageProcessor Class"
   ]
  },
  {
   "cell_type": "markdown",
   "metadata": {},
   "source": [
    "Load the classifier and scaler using pickle"
   ]
  },
  {
   "cell_type": "code",
   "execution_count": null,
   "metadata": {
    "collapsed": true
   },
   "outputs": [],
   "source": [
    "with open('SVM.pkl', 'rb') as fid:\n",
    "    svc, X_scaler = pickle.load(fid)"
   ]
  },
  {
   "cell_type": "markdown",
   "metadata": {},
   "source": [
    "#### Read in all the test images"
   ]
  },
  {
   "cell_type": "code",
   "execution_count": null,
   "metadata": {},
   "outputs": [],
   "source": [
    "test_files = glob.glob('.\\\\test_images\\*.jpg')\n",
    "test_images = []\n",
    "#Use cv2.imread() to read files so that all files are scaled from 0-255\n",
    "for file in test_files:\n",
    "    test_image = cv2.imread(file)\n",
    "    test_image = BGR2RGB(test_image)\n",
    "    test_images.append(test_image)\n",
    "\n",
    "test_images = np.asarray(test_images)\n",
    "print(\"Test images shape is:\", test_images.shape)\n",
    "\n",
    "nrows, ncols = 2, 3\n",
    "fig, axes = plt.subplots(nrows, ncols, figsize=(20,10))\n",
    "for idx, image in enumerate(test_images):\n",
    "    plt.subplot(nrows,ncols, idx+1)\n",
    "    plt.imshow(test_images[idx])\n",
    "    plt.title(\"Test Image {:d}\".format(idx+1))\n",
    "fig.tight_layout()\n",
    "plt.show()"
   ]
  },
  {
   "cell_type": "markdown",
   "metadata": {},
   "source": [
    "#### Visualize & search the windows"
   ]
  },
  {
   "cell_type": "markdown",
   "metadata": {},
   "source": [
    "Visualize the windows on each test image"
   ]
  },
  {
   "cell_type": "code",
   "execution_count": null,
   "metadata": {
    "scrolled": false
   },
   "outputs": [],
   "source": [
    "#Variables for sliding windows\n",
    "window_scale = (1.0, 1.25, 2)\n",
    "x_start_stop = [400, 1280]\n",
    "y_start_stop = [[375, 520], [400, 580], [500, 700]]\n",
    "xy_window = (80, 80)\n",
    "xy_overlap = (0.75, 0.75)\n",
    "color_values = [(0,0,255), (0,255,0), (255,0,0)]\n",
    "\n",
    "plt.figure(figsize=(20,20))\n",
    "for idx, image in enumerate(test_images):\n",
    "    n_windows = 0\n",
    "    for i, scale in enumerate(window_scale):\n",
    "        windows = slide_window(image, x_start_stop=x_start_stop, y_start_stop=y_start_stop[i], \n",
    "                                    xy_window=[int(dim*window_scale[i]) for dim in xy_window], xy_overlap=xy_overlap)\n",
    "        image = draw_boxes(image, windows, color_values[i])\n",
    "        n_windows += len(windows)\n",
    "    plt.subplot(3,2,idx+1)\n",
    "    plt.imshow(image)\n",
    "    plt.title(\"Test Image {:d}\".format(idx+1))\n",
    "#plt.savefig('.\\\\output_images\\\\SVM_windows.png')\n",
    "print(\"Total # of windows:\", n_windows)\n",
    "plt.show()"
   ]
  },
  {
   "cell_type": "code",
   "execution_count": null,
   "metadata": {
    "collapsed": true
   },
   "outputs": [],
   "source": [
    "#Define window scales for HOG subsampling to match windows displayed above\n",
    "hogss_window_scale = ((window_scale[0]*80/64), (window_scale[1]*80/64), (window_scale[2]*80/64))\n",
    "\n",
    "processor = ImageProcessor(svc, X_scaler)\n",
    "processor.window_scale = hogss_window_scale\n",
    "processor.x_start_stop = x_start_stop\n",
    "processor.y_start_stop = y_start_stop\n",
    "processor.orient = orient \n",
    "processor.pix_per_cell = pix_per_cell\n",
    "processor.cell_per_block = cell_per_block\n",
    "processor.spatial_size = spatial_size\n",
    "processor.hist_bins = hist_bins\n",
    "processor.threshold = 1 #Use 1 for visualizing images, use 8 when running on video\n",
    "processor.smooth_count = 10"
   ]
  },
  {
   "cell_type": "code",
   "execution_count": null,
   "metadata": {},
   "outputs": [],
   "source": [
    "total_time= 0\n",
    "plt.figure(figsize=(20,20))\n",
    "for idx, image in enumerate(test_images):\n",
    "    t = time.time()\n",
    "    output_image = processor.vehicle_detection(image)\n",
    "    t2 = time.time()\n",
    "    total_time += round(t2-t,2)\n",
    "    plt.subplot(3,2,idx+1)\n",
    "    plt.imshow(output_image)\n",
    "print(\"Average Image processing time: {:.2f} seconds\".format(total_time/(idx+1)))\n",
    "plt.show()"
   ]
  },
  {
   "cell_type": "code",
   "execution_count": null,
   "metadata": {},
   "outputs": [],
   "source": [
    "project_output = '.\\\\output_videos\\\\project_clip_gr11.mp4'\n",
    "clip1 = VideoFileClip(\"project_video.mp4\").subclip(20,40)\n",
    "#clip1 = VideoFileClip(\"project_video.mp4\")\n",
    "clip = clip1.fl_image(processor.vehicle_detection)\n",
    "%time clip.write_videofile(project_output, audio=False)\n",
    "clip.reader.close()"
   ]
  },
  {
   "cell_type": "code",
   "execution_count": null,
   "metadata": {
    "collapsed": true
   },
   "outputs": [],
   "source": [
    "HTML(\"\"\"\n",
    "<video width=\"960\" height=\"540\" controls>\n",
    "  <source src=\"{0}\">\n",
    "</video>\n",
    "\"\"\".format(project_output))"
   ]
  }
 ],
 "metadata": {
  "kernelspec": {
   "display_name": "Python 3",
   "language": "python",
   "name": "python3"
  },
  "language_info": {
   "codemirror_mode": {
    "name": "ipython",
    "version": 3
   },
   "file_extension": ".py",
   "mimetype": "text/x-python",
   "name": "python",
   "nbconvert_exporter": "python",
   "pygments_lexer": "ipython3",
   "version": "3.5.2"
  },
  "widgets": {
   "state": {},
   "version": "1.1.2"
  }
 },
 "nbformat": 4,
 "nbformat_minor": 2
}
